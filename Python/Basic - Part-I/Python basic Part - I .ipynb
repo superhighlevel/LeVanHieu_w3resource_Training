{
 "cells": [
  {
   "cell_type": "markdown",
   "id": "9fc2e211",
   "metadata": {},
   "source": [
    "#### 1. Write a Python program to print the following string in a specific format (see the output)\n",
    "\n",
    "Sample String : \"Twinkle, twinkle, little star, How I wonder what you are! Up above the world so high, Like a diamond in the sky. Twinkle, twinkle, little star, How I wonder what you are\" Output :\n",
    "\n",
    "Twinkle, twinkle, little star,\n",
    "\tHow I wonder what you are! \n",
    "\t\tUp above the world so high,   \t\t\n",
    "\t\tLike a diamond in the sky. \n",
    "Twinkle, twinkle, little star, \n",
    "\tHow I wonder what you are"
   ]
  },
  {
   "cell_type": "code",
   "execution_count": 29,
   "id": "a6b051f8",
   "metadata": {},
   "outputs": [
    {
     "name": "stdout",
     "output_type": "stream",
     "text": [
      "Twinkle, twinkle, little star, How I wonder what you are! Up above the world so high,\n",
      "Like a diamond in the sky. Twinkle, twinkle, little star, How I wonder what you are\n"
     ]
    }
   ],
   "source": [
    "simple_string = \"Twinkle, twinkle, little star, How I wonder what you are! Up above the world so high,\\nLike a diamond in the sky. Twinkle, twinkle, little star, How I wonder what you are\"\n",
    "print(simple_string)"
   ]
  },
  {
   "cell_type": "markdown",
   "id": "b5558312",
   "metadata": {},
   "source": [
    "#### 2. Write a Python program to get the Python version you are using."
   ]
  },
  {
   "cell_type": "code",
   "execution_count": 10,
   "id": "2e135623",
   "metadata": {},
   "outputs": [
    {
     "name": "stdout",
     "output_type": "stream",
     "text": [
      "Python verison: 3.8.8 (default, Apr 13 2021, 15:08:03) [MSC v.1916 64 bit (AMD64)]\n",
      "Version info: sys.version_info(major=3, minor=8, micro=8, releaselevel='final', serial=0)\n"
     ]
    }
   ],
   "source": [
    "import sys\n",
    "print(\"Python verison:\", sys.version)\n",
    "print(\"Version info:\", sys.version_info)"
   ]
  },
  {
   "cell_type": "markdown",
   "id": "052dff20",
   "metadata": {},
   "source": [
    "#### 3. Write a Python program to display the current date and time.\n",
    "Sample Output :  \n",
    "Current date and time : 2014-07-05 14:34:14"
   ]
  },
  {
   "cell_type": "code",
   "execution_count": 20,
   "id": "5be50e99",
   "metadata": {},
   "outputs": [
    {
     "name": "stdout",
     "output_type": "stream",
     "text": [
      "Current date and time: 2021-11-25 16:38:57\n"
     ]
    }
   ],
   "source": [
    "import datetime\n",
    "print(f\"Current date and time:\", datetime.datetime.now().strftime(\"%Y-%m-%d %H:%M:%S\"))\n",
    "\n"
   ]
  },
  {
   "cell_type": "markdown",
   "id": "9eee18cb",
   "metadata": {},
   "source": [
    "#### 4. Write a Python program which accepts the radius of a circle from the user and compute the area. \n",
    "Sample Output :\n",
    "r = 1.1\n",
    "Area = 3.8013271108436504"
   ]
  },
  {
   "cell_type": "code",
   "execution_count": 26,
   "id": "f0c5acb5",
   "metadata": {},
   "outputs": [
    {
     "name": "stdout",
     "output_type": "stream",
     "text": [
      "Input the radius of the circle: 2.2\n",
      "r = 2.2 Area = 15.205308443374602\n"
     ]
    }
   ],
   "source": [
    "import math\n",
    "# Close for all runs\n",
    "# r = float(input(\"Input the radius of the circle: \"))\n",
    "r = 2.2\n",
    "print(f\"r = {r} Area = {math.pi * r**2}\")"
   ]
  },
  {
   "cell_type": "markdown",
   "id": "62d4141b",
   "metadata": {},
   "source": [
    "#### 5. Write a Python program which accepts the user's first and last name and print them in reverse order with a space between them."
   ]
  },
  {
   "cell_type": "code",
   "execution_count": 28,
   "id": "dfd44499",
   "metadata": {},
   "outputs": [
    {
     "name": "stdout",
     "output_type": "stream",
     "text": [
      "Input your first name: Hieu\n",
      "In your last name: Le Van\n",
      "Wellcome! Le Van Hieu\n"
     ]
    }
   ],
   "source": [
    "# first_name = input(\"Input your first name: \")\n",
    "# last_name = input(\"In your last name: \")\n",
    "first_name = \"Hieu\"\n",
    "last_name = \"Le Van\"\n",
    "print(f\"Wellcome! {last_name} {first_name}\")"
   ]
  },
  {
   "cell_type": "markdown",
   "id": "7a8dbb63",
   "metadata": {},
   "source": [
    "#### 6. Write a Python program which accepts a sequence of comma-separated numbers from user and generate a list and a tuple with those numbers.\n",
    "\n",
    "Sample data : 3, 5, 7, 23  \n",
    "Output:  \n",
    "List : ['3', ' 5', ' 7', ' 23']  \n",
    "Tuple : ('3', ' 5', ' 7', ' 23')"
   ]
  },
  {
   "cell_type": "code",
   "execution_count": 32,
   "id": "cccec28a",
   "metadata": {},
   "outputs": [
    {
     "name": "stdout",
     "output_type": "stream",
     "text": [
      "List: ['4', ' 6', ' 5', ' 3', ' 6', ' 4', ' 12']\n",
      "Tuple: ('4', ' 6', ' 5', ' 3', ' 6', ' 4', ' 12')\n"
     ]
    }
   ],
   "source": [
    "# sample_input_values = input(\"Input some comma-separated numbers: \") \n",
    "sample_input_values = '4, 6, 5, 3, 6, 4, 12'\n",
    "list_input_values = list(sample_input_values.split(','))\n",
    "tuple_input_values = tuple(list_input_values)\n",
    "print(\"List:\", list_input_values)\n",
    "print(\"Tuple:\", tuple_input_values)"
   ]
  },
  {
   "cell_type": "markdown",
   "id": "8659f462",
   "metadata": {},
   "source": [
    "#### 7. Write a Python program to accept a filename from the user and print the extension of that.\n",
    "\n",
    "Sample filename : abc.java  \n",
    "Output : java"
   ]
  },
  {
   "cell_type": "code",
   "execution_count": 2,
   "id": "e4c708e1",
   "metadata": {},
   "outputs": [
    {
     "name": "stdout",
     "output_type": "stream",
     "text": [
      "py\n"
     ]
    }
   ],
   "source": [
    "# sample_input_filename = input(\"Input a filename: \")\n",
    "sample_input_filename = \"Working.py\"\n",
    "print(\"The file name is:\", sample_input_filename.split('.')[-1])"
   ]
  },
  {
   "cell_type": "markdown",
   "id": "54f87370",
   "metadata": {},
   "source": [
    "#### 8. Write a Python program to display the first and last colors from the following list.\n",
    "\n",
    "color_list = [\"Red\",\"Green\",\"White\" ,\"Black\"]"
   ]
  },
  {
   "cell_type": "code",
   "execution_count": 5,
   "id": "2370ca2f",
   "metadata": {},
   "outputs": [
    {
     "name": "stdout",
     "output_type": "stream",
     "text": [
      "The first color of the list is Red, last color is Black\n"
     ]
    }
   ],
   "source": [
    "color_list = [\"Red\",\"Green\",\"White\" ,\"Black\"]\n",
    "print(f\"The first color of the list is {color_list[0]}, last color is {color_list[-1]}\")"
   ]
  },
  {
   "cell_type": "markdown",
   "id": "2c1ededf",
   "metadata": {},
   "source": [
    "#### 9. Write a Python program to display the examination schedule. (extract the date from exam_st_date).\n",
    "\n",
    "exam_st_date = (11, 12, 2014)"
   ]
  },
  {
   "cell_type": "code",
   "execution_count": 20,
   "id": "e60d8043",
   "metadata": {},
   "outputs": [
    {
     "name": "stdout",
     "output_type": "stream",
     "text": [
      "2014-12-11\n"
     ]
    }
   ],
   "source": [
    "import datetime\n",
    "exam_st_date = (11, 12, 2014)\n",
    "exam_st_date_parse = datetime.date(*exam_st_date[::-1])\n",
    "print(exam_st_date_parse)"
   ]
  },
  {
   "cell_type": "markdown",
   "id": "0f4e7c35",
   "metadata": {},
   "source": [
    "#### 10. Write a Python program that accepts an integer (n) and computes the value of n+nn+nnn.\n",
    "\n",
    "Sample value of n is 5  \n",
    "Expected Result : 615"
   ]
  },
  {
   "cell_type": "code",
   "execution_count": 28,
   "id": "f6f497ed",
   "metadata": {},
   "outputs": [
    {
     "name": "stdout",
     "output_type": "stream",
     "text": [
      "result of n+nn+nnn: 615\n"
     ]
    }
   ],
   "source": [
    "# simple_n = input(\"Input a integer number: \")\n",
    "simple_n = '5'\n",
    "print(\"result of n+nn+nnn:\", int(simple_n)+int(simple_n+simple_n)+int(simple_n+simple_n+simple_n))"
   ]
  },
  {
   "cell_type": "markdown",
   "id": "8d1c274c",
   "metadata": {},
   "source": [
    "#### 11. Write a Python program to print the documents (syntax, description etc.) of Python built-in function(s).\n",
    "\n",
    "Sample function : abs()  \n",
    "Expected Result :  \n",
    "abs(number) -> number  \n",
    "Return the absolute value of the argument."
   ]
  },
  {
   "cell_type": "code",
   "execution_count": 47,
   "id": "7b99931d",
   "metadata": {},
   "outputs": [
    {
     "name": "stdout",
     "output_type": "stream",
     "text": [
      "Help on built-in function abs in module builtins:\n",
      "\n",
      "abs(x, /)\n",
      "    Return the absolute value of the argument.\n",
      "\n",
      "None\n",
      "Return the absolute value of the argument.\n"
     ]
    }
   ],
   "source": [
    "print(help(abs))\n",
    "print(abs.__doc__)"
   ]
  },
  {
   "cell_type": "markdown",
   "id": "6e265d40",
   "metadata": {},
   "source": [
    "#### 12. Write a Python program to print the calendar of a given month and year.  \n",
    "Note : Use 'calendar' module."
   ]
  },
  {
   "cell_type": "code",
   "execution_count": 52,
   "id": "f9a10363",
   "metadata": {},
   "outputs": [
    {
     "name": "stdout",
     "output_type": "stream",
     "text": [
      "   November 2021\n",
      "Mo Tu We Th Fr Sa Su\n",
      " 1  2  3  4  5  6  7\n",
      " 8  9 10 11 12 13 14\n",
      "15 16 17 18 19 20 21\n",
      "22 23 24 25 26 27 28\n",
      "29 30\n",
      "\n"
     ]
    }
   ],
   "source": [
    "import calendar\n",
    "print(calendar.month(2021, 11, w=0, l=0))"
   ]
  },
  {
   "cell_type": "markdown",
   "id": "5e89ce37",
   "metadata": {},
   "source": [
    "#### 13. Write a Python program to print the following 'here document'. Go to the editor\n",
    "Sample string :  \n",
    "a string that you \"don't\" have to escape  \n",
    "This  \n",
    "is a ....... multi-line  \n",
    "heredoc string --------> example  "
   ]
  },
  {
   "cell_type": "code",
   "execution_count": 53,
   "id": "20ef53fa",
   "metadata": {},
   "outputs": [
    {
     "name": "stdout",
     "output_type": "stream",
     "text": [
      "\n",
      "a string that you \"don't\" have to escape\n",
      "This\n",
      "is a ....... multi-line\n",
      "heredoc string --------> example\n"
     ]
    }
   ],
   "source": [
    "print(\"\"\"\n",
    "a string that you \"don't\" have to escape\n",
    "This\n",
    "is a ....... multi-line\n",
    "heredoc string --------> example\"\"\")"
   ]
  },
  {
   "cell_type": "markdown",
   "id": "381ab395",
   "metadata": {},
   "source": [
    "#### 14. Write a Python program to calculate number of days between two dates.\n",
    "Sample dates : (2014, 7, 2), (2014, 7, 11)  \n",
    "Expected output : 9 days"
   ]
  },
  {
   "cell_type": "code",
   "execution_count": 57,
   "id": "c41c329b",
   "metadata": {},
   "outputs": [
    {
     "name": "stdout",
     "output_type": "stream",
     "text": [
      "9\n"
     ]
    }
   ],
   "source": [
    "from datetime import date\n",
    "Date_1 = date(2014, 7, 2)\n",
    "Date_2 = date(2014, 7, 11)\n",
    "days_diff= Date_2 - Date_1\n",
    "print(days_diff.days)"
   ]
  },
  {
   "cell_type": "markdown",
   "id": "e89ee7ed",
   "metadata": {},
   "source": [
    "#### 15. Write a Python program to get the volume of a sphere with radius 6.\n",
    "Click me to see the sample solution  "
   ]
  },
  {
   "cell_type": "code",
   "execution_count": 58,
   "id": "efe176fe",
   "metadata": {},
   "outputs": [
    {
     "name": "stdout",
     "output_type": "stream",
     "text": [
      "Volume of a sphere with radius 6: 25.132741228718345\n"
     ]
    }
   ],
   "source": [
    "import math\n",
    "r = 6\n",
    "print(\"Volume of a sphere with radius 6:\", 4/3*r*math.pi)"
   ]
  },
  {
   "cell_type": "markdown",
   "id": "12c27dfb",
   "metadata": {},
   "source": [
    "#### 16. Write a Python program to get the difference between a given number and 17, if the number is greater than 17 return double the absolute difference. "
   ]
  },
  {
   "cell_type": "code",
   "execution_count": 61,
   "id": "6d23a657",
   "metadata": {},
   "outputs": [
    {
     "name": "stdout",
     "output_type": "stream",
     "text": [
      "98\n"
     ]
    }
   ],
   "source": [
    "# a_number = int(input(\"Input an integer number: \"))\n",
    "a_number = 66\n",
    "if a_number > 17:\n",
    "    print(2*abs(a_number-17))"
   ]
  },
  {
   "cell_type": "markdown",
   "id": "085b5ab4",
   "metadata": {},
   "source": [
    "#### 17. Write a Python program to test whether a number is within 100 of 1000 or 2000."
   ]
  },
  {
   "cell_type": "code",
   "execution_count": 65,
   "id": "b56a21a8",
   "metadata": {},
   "outputs": [
    {
     "name": "stdout",
     "output_type": "stream",
     "text": [
      "True\n",
      "False\n",
      "True\n",
      "True\n"
     ]
    }
   ],
   "source": [
    "def check_number(x):\n",
    "    if (x >=100 and x <=1000) or (x>=1900 and x <= 2000):\n",
    "        return True\n",
    "    else:\n",
    "        return False\n",
    "print(check_number(555))\n",
    "print(check_number(44))\n",
    "print(check_number(905))\n",
    "print(check_number(1975))"
   ]
  },
  {
   "cell_type": "markdown",
   "id": "c3cc798d",
   "metadata": {},
   "source": [
    "#### 18. Write a Python program to calculate the sum of three given numbers, if the values are equal then return three times of their sum."
   ]
  },
  {
   "cell_type": "code",
   "execution_count": null,
   "id": "58acc87d",
   "metadata": {},
   "outputs": [],
   "source": []
  },
  {
   "cell_type": "markdown",
   "id": "4394a029",
   "metadata": {},
   "source": [
    "#### 19. Write a Python program to get a new string from a given string where \"Is\" has been added to the front. If the given string already begins with \"Is\" then return the string unchanged."
   ]
  },
  {
   "cell_type": "code",
   "execution_count": null,
   "id": "a7a3668f",
   "metadata": {},
   "outputs": [],
   "source": []
  },
  {
   "cell_type": "markdown",
   "id": "9b3ef11b",
   "metadata": {},
   "source": [
    "#### 20. Write a Python program to get a string which is n (non-negative integer) copies of a given string."
   ]
  },
  {
   "cell_type": "code",
   "execution_count": null,
   "id": "8abdca3f",
   "metadata": {},
   "outputs": [],
   "source": []
  }
 ],
 "metadata": {
  "kernelspec": {
   "display_name": "Python 3 (ipykernel)",
   "language": "python",
   "name": "python3"
  },
  "language_info": {
   "codemirror_mode": {
    "name": "ipython",
    "version": 3
   },
   "file_extension": ".py",
   "mimetype": "text/x-python",
   "name": "python",
   "nbconvert_exporter": "python",
   "pygments_lexer": "ipython3",
   "version": "3.8.8"
  }
 },
 "nbformat": 4,
 "nbformat_minor": 5
}
